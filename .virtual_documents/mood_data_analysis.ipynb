import os
import pandas as pd
import json

# Replace this with the path to the directory where your files are located
directory_path = 'mood_datas'

# Check if the directory exists
if not os.path.exists(directory_path):
    print(f"The directory {directory_path} does not exist.")
else:
    # Check if the directory is empty
    if not os.listdir(directory_path):
        print(f"The directory {directory_path} is empty.")
    else:
        # Print the files in the directory
        print(f"Files in the directory {directory_path}:")
        print(os.listdir(directory_path))

# List all files in the directory
all_files = os.listdir(directory_path)

# Filter out the files ending with '_M' and '_A'
mood_m_files = [file for file in all_files if file.endswith('_M')]
mood_a_files = [file for file in all_files if file.endswith('_A')]

# Define a function to parse the JSON and extract the values
def parse_mood_values(mood_value_str):
    mood_value_dict = json.loads(mood_value_str.replace("'", "\""))  # Replace single quotes with double quotes for valid JSON
    valence = mood_value_dict['valence']['value']
    valence_confidence = mood_value_dict['valence']['confidence']
    attention = mood_value_dict['attention']['value']
    attention_confidence = mood_value_dict['attention']['confidence']
    return valence, valence_confidence, attention, attention_confidence

# Dictionary to hold each DataFrame
data_frames = {}

# Process each pair of files
for m_file in mood_m_files:
    base_name = m_file.replace('_M', '')
    a_file = base_name + '_A'
    
    if a_file in mood_a_files:
        # Path to the _M and _A files
        path_to_m_file = os.path.join(directory_path, m_file)
        path_to_a_file = os.path.join(directory_path, a_file)
        
        # Load the data
        data_m = pd.read_csv(path_to_m_file)
        data_a = pd.read_csv(path_to_a_file)
        
        # Apply the function to extract values
        data_m[['valence', 'valence_confidence', 'attention', 'attention_confidence']] = data_m['MoodValue'].apply(
            lambda x: pd.Series(parse_mood_values(x))
        )
        data_a[['valence', 'valence_confidence', 'attention', 'attention_confidence']] = data_a['MoodValue'].apply(
            lambda x: pd.Series(parse_mood_values(x))
        )
        
        # Drop the original 'MoodValue' column and the 'Unnamed: 0' column
        data_m.drop(['MoodValue', 'Unnamed: 0'], axis=1, inplace=True)
        data_a.drop(['MoodValue', 'Unnamed: 0'], axis=1, inplace=True)
        
        # Add the DataFrames to the dictionary
        data_frames[base_name + '_M'] = data_m
        data_frames[base_name + '_A'] = data_a

# Now, data_frames contains all the separate dataframes for each pair of _M and _A files

data_frames


# Iterate over the dictionary items
for file_name, df in data_frames.items():
    print('1')
    print(f"First few rows of {file_name}:")
    print(df.head(), '\n')  # Print the first five rows of each DataFrame






data1.head()


import matplotlib.pyplot as plt

# Function to plot valence and attention
def plot_mood_data(df_m, df_a, base_name):
    fig, axs = plt.subplots(2, 2, figsize=(14, 10))  # 2x2 subplot array

    # Plot Valence for condition M
    axs[0, 0].plot(df_m['Timestamp'], df_m['valence'], label=f'{base_name} Valence M', color='blue')
    axs[0, 0].fill_between(df_m['Timestamp'], df_m['valence'] - df_m['valence_confidence'], 
                     df_m['valence'] + df_m['valence_confidence'], alpha=0.2, color='blue')
    axs[0, 0].set_title(f'{base_name} Valence M over Time')
    axs[0, 0].set_xlabel('Timestamp')
    axs[0, 0].set_ylabel('Valence')
    axs[0, 0].legend()

    # Plot Valence for condition A
    axs[0, 1].plot(df_a['Timestamp'], df_a['valence'], label=f'{base_name} Valence A', color='red')
    axs[0, 1].fill_between(df_a['Timestamp'], df_a['valence'] - df_a['valence_confidence'], 
                     df_a['valence'] + df_a['valence_confidence'], alpha=0.2, color='red')
    axs[0, 1].set_title(f'{base_name} Valence A over Time')
    axs[0, 1].set_xlabel('Timestamp')
    axs[0, 1].set_ylabel('Valence')
    axs[0, 1].legend()

    # Plot Attention for condition M
    axs[1, 0].plot(df_m['Timestamp'], df_m['attention'], label=f'{base_name} Attention M', color='green')
    axs[1, 0].fill_between(df_m['Timestamp'], df_m['attention'] - df_m['attention_confidence'], 
                     df_m['attention'] + df_m['attention_confidence'], alpha=0.2, color='green')
    axs[1, 0].set_title(f'{base_name} Attention M over Time')
    axs[1, 0].set_xlabel('Timestamp')
    axs[1, 0].set_ylabel('Attention')
    axs[1, 0].legend()

    # Plot Attention for condition A
    axs[1, 1].plot(df_a['Timestamp'], df_a['attention'], label=f'{base_name} Attention A', color='purple')
    axs[1, 1].fill_between(df_a['Timestamp'], df_a['attention'] - df_a['attention_confidence'], 
                     df_a['attention'] + df_a['attention_confidence'], alpha=0.2, color='purple')
    axs[1, 1].set_title(f'{base_name} Attention A over Time')
    axs[1, 1].set_xlabel('Timestamp')
    axs[1, 1].set_ylabel('Attention')
    axs[1, 1].legend()

    plt.tight_layout()
    plt.show()

# Iterate over the data frames and plot each pair of _M and _A data
for base_name in set(name.replace('_M', '').replace('_A', '') for name in data_frames):
    df_m = data_frames[base_name + '_M']
    df_a = data_frames[base_name + '_A']
    plot_mood_data(df_m, df_a, base_name)



# Plotting Valence and Attention over time
plt.figure(figsize=(14, 6))
plt.subplot(1, 2, 1)
plt.plot(data1['Timestamp'], data1['valence'], label='Valence')
plt.fill_between(data1['Timestamp'], data1['valence'] - data1['valence confidence'], 
                 data1['valence'] + data1['valence confidence'], alpha=0.2)
plt.title('Valence over Time')
plt.xlabel('Timestamp')
plt.ylabel('Valence')
plt.legend()
plt.subplot(1, 2, 2)
plt.plot(data1['Timestamp'], data1['attention'], label='Attention', color='orange')
plt.fill_between(data1['Timestamp'], data1['attention'] - data1['attention confidence'], 
                 data1['attention'] + data1['attention confidence'], alpha=0.2, color='orange')
plt.title('Attention over Time')
plt.xlabel('Timestamp')
plt.ylabel('Attention')
plt.legend()
plt.tight_layout()
plt.show()



